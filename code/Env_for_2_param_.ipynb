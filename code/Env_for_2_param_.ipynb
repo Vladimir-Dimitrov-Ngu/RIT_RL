{
  "nbformat": 4,
  "nbformat_minor": 0,
  "metadata": {
    "colab": {
      "provenance": []
    },
    "kernelspec": {
      "name": "python3",
      "display_name": "Python 3"
    },
    "language_info": {
      "name": "python"
    }
  },
  "cells": [
    {
      "cell_type": "code",
      "execution_count": 2,
      "metadata": {
        "id": "RhzBNkITSHim"
      },
      "outputs": [],
      "source": [
        "from gym import spaces\n",
        "from gym import Env\n",
        "import gym \n",
        "from typing import Tuple, Optional, List, Union\n",
        "\n",
        "import PIL.Image\n",
        "import PIL.ImageDraw\n",
        "import PIL.Image\n",
        "from gym import logger, spaces\n",
        "from PIL import ImageFont\n",
        "from time import time\n",
        "%matplotlib inline\n",
        "import math\n",
        "\n",
        "import matplotlib.pyplot as plt\n",
        "\n",
        "from matplotlib import style\n",
        "\n",
        "from gym.envs.classic_control import utils\n",
        "import numpy as np\n",
        "np.set_printoptions(suppress=True)\n",
        "\n",
        "import json\n",
        "import random\n",
        "style.use('dark_background')"
      ]
    },
    {
      "cell_type": "code",
      "source": [
        "MAX_ROT_SPEED = 150\n",
        "MAX_PRESSURE = 5000"
      ],
      "metadata": {
        "id": "eMD7bVd6Siu1"
      },
      "execution_count": 3,
      "outputs": []
    },
    {
      "cell_type": "code",
      "source": [
        "class DrillingEnv(gym.Env[np.ndarray, Union[int, np.ndarray]]):\n",
        "  def __init__(self, max_steps):\n",
        "    high = np.array(\n",
        "            [\n",
        "               200\n",
        "            ],\n",
        "            dtype=np.int32,\n",
        "        )\n",
        "    self.action_space = spaces.Discrete(3)\n",
        "    self.observation_space = spaces.Box(np.array([0], dtype = np.int32), high, dtype=np.int32)\n",
        "    self.state = None\n",
        "    self.steps_beyond_terminated = None\n",
        "    self.max_steps = max_steps\n",
        "    self.step_session = 0\n",
        "  def step(self, action):\n",
        "    self.step_session += 1\n",
        "    RPM, dig_pressure_prev = self.state\n",
        "    if action == 0:\n",
        "      action_rot = 1\n",
        "    elif action == 1:\n",
        "     action_rot = -1\n",
        "    else:\n",
        "      action_rot = 0\n",
        "    # 1 -> вправо \n",
        "    # 0 -> влево  \n",
        "    RPM_new = RPM +  action_rot * 2\n",
        "    dig_pressure_new = dig_pressure_prev + action_rot * 100\n",
        "    self.state = (RPM_new, dig_pressure_new)\n",
        "    DPR_optimal_upper = 3500\n",
        "    DPR_optimal_lower = 3000\n",
        "    \n",
        "    RPM_optimal_upper = 120\n",
        "    RPM_optimal_lower = 105\n",
        "    terminated = bool(\n",
        "            RPM_new > MAX_ROT_SPEED * 0.8\n",
        "            or RPM_new < MAX_ROT_SPEED * 0.7\n",
        "            or dig_pressure_new > MAX_PRESSURE * 0.7\n",
        "            or dig_pressure_new < MAX_PRESSURE * 0.6\n",
        "        )\n",
        "    if not terminated and RPM_new == RPM  and dig_pressure_new == dig_pressure_prev and self.step_session < self.max_steps :\n",
        "      reward = 15\n",
        "    elif not terminated and RPM_new != RPM and dig_pressure_new != dig_pressure_prev and self.step_session < self.max_steps:\n",
        "      reward = 10\n",
        "    elif not terminated and RPM_new == RPM and dig_pressure_new == dig_pressure_prev:\n",
        "      reward = 5\n",
        "    elif not terminated:\n",
        "      reward = 2\n",
        "    elif RPM_new < RPM_optimal_lower and dig_pressure_new < DPR_optimal_lower:\n",
        "        if (RPM_optimal_lower - RPM_new) < (RPM_optimal_lower - RPM) and (DPR_optimal_lower - dig_pressure_new) < (DPR_optimal_lower - dig_pressure_prev):\n",
        "          reward = 1\n",
        "        else:\n",
        "          reward = -1\n",
        "    elif RPM_new > RPM_optimal_upper and dig_pressure_new > DPR_optimal_upper: \n",
        "        if (RPM_new  - RPM_optimal_upper) < (RPM - RPM_optimal_upper) and (dig_pressure_new  - DPR_optimal_upper) < (dig_pressure_prev - DPR_optimal_upper):\n",
        "          reward = 1\n",
        "        else:\n",
        "          reward = -1\n",
        "    else:\n",
        "      reward = -2\n",
        "    return np.array(self.state, dtype=np.int32), reward, terminated, False\n",
        "  def reset(\n",
        "        self,\n",
        "        *,\n",
        "        seed: Optional[int] = None,\n",
        "        options: Optional[dict] = None,\n",
        "    ):  \n",
        "        self.step_session = 0\n",
        "        RPM = int(np.random.uniform(100, 150))\n",
        "        Dig_pressure = int(np.random.uniform(2900, 3600))\n",
        "        self.state = np.array([RPM, Dig_pressure])\n",
        "        return np.array(self.state, dtype=np.int32)  \n",
        "  def render(self):\n",
        "      if self.render_mode is None:\n",
        "          gym.logger.warn(\n",
        "              \"You are calling render method without specifying any render mode. \"\n",
        "              \"You can specify the render_mode at initialization, \"\n",
        "              f'e.g. gym(\"{self.spec.id}\", render_mode=\"rgb_array\")'\n",
        "          )\n",
        "          return"
      ],
      "metadata": {
        "id": "bRbr7D1mSXHQ"
      },
      "execution_count": 4,
      "outputs": []
    },
    {
      "cell_type": "code",
      "source": [
        "class DrillingEnv(gym.Env[np.ndarray, Union[int, np.ndarray]]):\n",
        "  def __init__(self, max_steps):\n",
        "    high = np.array(\n",
        "            [\n",
        "               200\n",
        "            ],\n",
        "            dtype=np.int32,\n",
        "        )\n",
        "    self.action_space = spaces.Discrete(9)\n",
        "    self.observation_space = spaces.Box(np.array([0], dtype = np.int32), high, dtype=np.int32)\n",
        "    self.state = None\n",
        "    self.steps_beyond_terminated = None\n",
        "    self.max_steps = max_steps\n",
        "    self.step_session = 0\n",
        "  def step(self, action):\n",
        "    self.step_session += 1\n",
        "    RPM, dig_pressure_prev = self.state\n",
        "    if action == 0:\n",
        "      action_rot = 1\n",
        "    elif action == 1:\n",
        "     action_rot = -1\n",
        "    elif action == 2:\n",
        "      action_rot = 5\n",
        "    elif action == 3:\n",
        "      action_rot = -5\n",
        "    elif action == 4:\n",
        "      action_rot = 2\n",
        "    elif action == 5:\n",
        "      action_rot = -2\n",
        "    elif action == 6:\n",
        "      action_rot = 0.5\n",
        "    elif action == 7:\n",
        "      action_rot = -0.5\n",
        "    else:\n",
        "      action_rot = 0\n",
        "    # 1 -> вправо \n",
        "    # 0 -> влево  \n",
        "    RPM_new = RPM +  action_rot * 2\n",
        "    dig_pressure_new = dig_pressure_prev + action_rot * 100\n",
        "    self.state = (RPM_new, dig_pressure_new)\n",
        "    DPR_optimal_upper = 3500\n",
        "    DPR_optimal_lower = 3000\n",
        "    \n",
        "    RPM_optimal_upper = 120\n",
        "    RPM_optimal_lower = 105\n",
        "    terminated = bool(\n",
        "            RPM_new > MAX_ROT_SPEED * 0.8\n",
        "            or RPM_new < MAX_ROT_SPEED * 0.7\n",
        "            or dig_pressure_new > MAX_PRESSURE * 0.7\n",
        "            or dig_pressure_new < MAX_PRESSURE * 0.6\n",
        "        )\n",
        "    reward = 0\n",
        "    if not terminated and RPM_new == RPM  and dig_pressure_new == dig_pressure_prev and self.step_session < self.max_steps :\n",
        "      reward += 15\n",
        "    elif not terminated and RPM_new != RPM and dig_pressure_new != dig_pressure_prev and self.step_session < self.max_steps:\n",
        "      reward += 5\n",
        "    elif not terminated and RPM_new == RPM and dig_pressure_new == dig_pressure_prev:\n",
        "      reward += 10\n",
        "    # elif not terminated:\n",
        "    #   reward += 2\n",
        "    elif terminated:\n",
        "      if RPM_new < RPM_optimal_lower:\n",
        "        if (RPM_optimal_lower - RPM_new) < (RPM_optimal_lower - RPM):\n",
        "          reward += 1\n",
        "        else:\n",
        "          reward += -1\n",
        "      elif RPM_new > RPM_optimal_upper:\n",
        "        if (RPM_new  - RPM_optimal_upper) < (RPM - RPM_optimal_upper):\n",
        "          reward += 1\n",
        "        else:\n",
        "          reward -= 1\n",
        "      if dig_pressure_new < DPR_optimal_lower:\n",
        "        if (DPR_optimal_lower - dig_pressure_new) < (DPR_optimal_lower - dig_pressure_prev):\n",
        "          reward += 1\n",
        "        else:\n",
        "          reward += -1\n",
        "      elif dig_pressure_new > DPR_optimal_upper:\n",
        "        if (dig_pressure_new  - DPR_optimal_upper) < (dig_pressure_prev - DPR_optimal_upper):\n",
        "          reward += 1\n",
        "        else:\n",
        "          reward -= 1\n",
        "    else:\n",
        "      reward -= 2\n",
        "    return np.array(self.state, dtype=np.int32), reward, terminated, False\n",
        "  def reset(\n",
        "        self,\n",
        "        *,\n",
        "        seed: Optional[int] = None,\n",
        "        options: Optional[dict] = None,\n",
        "    ):  \n",
        "        self.step_session = 0\n",
        "        RPM = int(np.random.uniform(100, 150))\n",
        "        Dig_pressure = int(np.random.uniform(2900, 3600))\n",
        "        self.state = np.array([RPM, Dig_pressure])\n",
        "        return np.array(self.state, dtype=np.int32)  \n",
        "  def render(self):\n",
        "      if self.render_mode is None:\n",
        "          gym.logger.warn(\n",
        "              \"You are calling render method without specifying any render mode. \"\n",
        "              \"You can specify the render_mode at initialization, \"\n",
        "              f'e.g. gym(\"{self.spec.id}\", render_mode=\"rgb_array\")'\n",
        "          )\n",
        "          return"
      ],
      "metadata": {
        "id": "evhX4GguZnCg"
      },
      "execution_count": 59,
      "outputs": []
    },
    {
      "cell_type": "code",
      "source": [
        "env = DrillingEnv(25)\n",
        "state = env.reset()\n",
        "print(f'Количество действий : {env.action_space.n}')\n",
        "print(f'Оптимальные обороты: от {MAX_ROT_SPEED * 0.7} до {MAX_ROT_SPEED * 0.8}')\n",
        "print(f'Оптимальное давление: от {MAX_PRESSURE * 0.6} до {MAX_PRESSURE * 0.7}')\n",
        "print(f'Начальное состояние: \\n \\\n",
        "Обороты : {state[0]} \\n Давление: {state[1]}')\n",
        "a0, a1 = env.action_space.sample(), env.action_space.sample()\n",
        "print(f'Сделано действие {a0} для оборотов')\n",
        "s, r, done, _  = env.step(a0)\n",
        "print(f'Награда для действия: {r} \\n Следующее состояние: {s}')"
      ],
      "metadata": {
        "colab": {
          "base_uri": "https://localhost:8080/"
        },
        "id": "nz-KyrlHUW8J",
        "outputId": "5133a4ac-c15b-420e-8bb9-252db4f3828b"
      },
      "execution_count": 60,
      "outputs": [
        {
          "output_type": "stream",
          "name": "stdout",
          "text": [
            "Количество действий : 9\n",
            "Оптимальные обороты: от 105.0 до 120.0\n",
            "Оптимальное давление: от 3000.0 до 3500.0\n",
            "Начальное состояние: \n",
            " Обороты : 103 \n",
            " Давление: 3449\n",
            "Сделано действие 8 для оборотов\n",
            "Награда для действия: -1 \n",
            " Следующее состояние: [ 103 3449]\n"
          ]
        }
      ]
    },
    {
      "cell_type": "markdown",
      "source": [
        "Обучение"
      ],
      "metadata": {
        "id": "TFIoYMWsUhUT"
      }
    },
    {
      "cell_type": "code",
      "source": [
        "from collections import defaultdict\n",
        "import random\n",
        "\n",
        "class QLearningAgent:\n",
        "    def __init__(self, alpha, epsilon, discount, get_legal_actions):\n",
        "        \"\"\"\n",
        "        Q-Learning Agent\n",
        "        based on https://inst.eecs.berkeley.edu/~cs188/sp19/projects.html\n",
        "        Instance variables you have access to\n",
        "          - self.epsilon (exploration prob)\n",
        "          - self.alpha (learning rate)\n",
        "          - self.discount (discount rate aka gamma)\n",
        "        Functions you should use\n",
        "          - self.get_legal_actions(state) {state, hashable -> list of actions, each is hashable}\n",
        "            which returns legal actions for a state\n",
        "          - self.get_qvalue(state,action)\n",
        "            which returns Q(state,action)\n",
        "          - self.set_qvalue(state,action,value)\n",
        "            which sets Q(state,action) := value\n",
        "        !!!Important!!!\n",
        "        Note: please avoid using self._qValues directly.\n",
        "            There's a special self.get_qvalue/set_qvalue for that.\n",
        "        \"\"\"\n",
        "\n",
        "        self.get_legal_actions = get_legal_actions\n",
        "        self._qvalues = defaultdict(lambda: defaultdict(lambda: 0))\n",
        "        self.alpha = alpha\n",
        "        self.epsilon = epsilon\n",
        "        self.discount = discount\n",
        "\n",
        "    def get_qvalue(self, state, action):\n",
        "        \"\"\" Returns Q(state,action) \"\"\"\n",
        "        n_state = tuple(list(state))\n",
        "        return self._qvalues[n_state][action]\n",
        "\n",
        "    def set_qvalue(self, state, action, value):\n",
        "        \"\"\" Sets the Qvalue for [state,action] to the given value \"\"\"\n",
        "        n_state = tuple(list(state))\n",
        "        self._qvalues[n_state][action] = value\n",
        "\n",
        "    #---------------------START OF YOUR CODE---------------------#\n",
        "\n",
        "    def get_value(self, state):\n",
        "        \"\"\"\n",
        "        Compute your agent's estimate of V(s) using current q-values\n",
        "        V(s) = max_over_action Q(state,action) over possible actions.\n",
        "        Note: please take into account that q-values can be negative.\n",
        "        \"\"\"\n",
        "        possible_actions = self.get_legal_actions(state)\n",
        "\n",
        "        # If there are no legal actions, return 0.0\n",
        "        if len(possible_actions) == 0:\n",
        "            return 0.0\n",
        "        value = -float('inf')\n",
        "        for action in possible_actions:\n",
        "          q_value = self.get_qvalue(state, action)\n",
        "          if q_value > value:\n",
        "            value = q_value\n",
        "        return value\n",
        "\n",
        "    def update(self, state, action, reward, next_state):\n",
        "        \"\"\"\n",
        "        You should do your Q-Value update here:\n",
        "           Q(s,a) := (1 - alpha) * Q(s,a) + alpha * (r + gamma * V(s'))\n",
        "        \"\"\"\n",
        "\n",
        "        # agent parameters\n",
        "        gamma = self.discount\n",
        "        learning_rate = self.alpha\n",
        "\n",
        "        q_value = (1 - learning_rate) * self.get_qvalue(state, action) + learning_rate * (reward + gamma * self.get_value(next_state))\n",
        "\n",
        "        self.set_qvalue(state, action, q_value)\n",
        "\n",
        "    def get_best_action(self, state):\n",
        "        \"\"\"\n",
        "        Compute the best action to take in a state (using current q-values).\n",
        "        \"\"\"\n",
        "        possible_actions = self.get_legal_actions(state)\n",
        "\n",
        "        # If there are no legal actions, return None\n",
        "        if len(possible_actions) == 0:\n",
        "            return None\n",
        "\n",
        "        qvalue = -float('inf')\n",
        "        best_action = None\n",
        "        for action in possible_actions:\n",
        "          new_qvalue = self.get_qvalue(state, action)\n",
        "          if qvalue < new_qvalue:\n",
        "            qvalue = new_qvalue\n",
        "            best_action = action\n",
        "\n",
        "        return best_action\n",
        "\n",
        "    def get_action(self, state):\n",
        "        \"\"\"\n",
        "        Compute the action to take in the current state, including exploration.\n",
        "        With probability self.epsilon, we should take a random action.\n",
        "            otherwise - the best policy action (self.get_best_action).\n",
        "        Note: To pick randomly from a list, use random.choice(list).\n",
        "              To pick True or False with a given probablity, generate uniform number in [0, 1]\n",
        "              and compare it with your probability\n",
        "        \"\"\"\n",
        "\n",
        "        # Pick Action\n",
        "        possible_actions = self.get_legal_actions(state)\n",
        "        chosen_action = None\n",
        "\n",
        "        # If there are no legal actions, return None\n",
        "        if len(possible_actions) == 0:\n",
        "            return None\n",
        "\n",
        "        # agent parameters:\n",
        "        epsilon = self.epsilon\n",
        "        if epsilon > random.uniform(0, 1):\n",
        "          chosen_action = random.choice(possible_actions)\n",
        "        else:\n",
        "          chosen_action = self.get_best_action(state)\n",
        "\n",
        "        return chosen_action\n",
        "\n",
        "def play_and_train(env, agent, t_max=10 ** 3):\n",
        "    \"\"\"\n",
        "    This function should\n",
        "    - run a full game, actions given by agent's e-greedy policy\n",
        "    - train agent using agent.update(...) whenever it is possible\n",
        "    - return total reward\n",
        "    \"\"\"\n",
        "    total_reward = 0\n",
        "    s = env.reset()\n",
        "\n",
        "    for t in range(t_max):\n",
        "        # get agent to pick action given state s.\n",
        "        a = agent.get_action(s)\n",
        "\n",
        "        next_s, r, done, _ = env.step(a)\n",
        "\n",
        "        # train (update) agent for state s\n",
        "        agent.update(s, a, r, next_s)\n",
        "\n",
        "        s = next_s\n",
        "        total_reward += r\n",
        "    return total_reward"
      ],
      "metadata": {
        "id": "oFSZ3f6TUjNN"
      },
      "execution_count": 61,
      "outputs": []
    },
    {
      "cell_type": "code",
      "source": [
        "env.action_space.n"
      ],
      "metadata": {
        "colab": {
          "base_uri": "https://localhost:8080/"
        },
        "id": "wQfsPT--oMH_",
        "outputId": "26db1e4d-de01-46a5-e731-9be4ed74110b"
      },
      "execution_count": 64,
      "outputs": [
        {
          "output_type": "execute_result",
          "data": {
            "text/plain": [
              "9"
            ]
          },
          "metadata": {},
          "execution_count": 64
        }
      ]
    },
    {
      "cell_type": "code",
      "source": [
        "n_actions = env.action_space.n\n",
        "agent = QLearningAgent(alpha=0.2, epsilon=0.25, discount=0.99,\n",
        "                       get_legal_actions=lambda s: range(n_actions))\n",
        "env = DrillingEnv(50)"
      ],
      "metadata": {
        "id": "PSAd-pnfUz5d"
      },
      "execution_count": 65,
      "outputs": []
    },
    {
      "cell_type": "code",
      "source": [
        "rewards = []\n",
        "for i in range(50_000):\n",
        "  agent.epsilon *= 0.99\n",
        "  rewards.append(play_and_train(env, agent))\n",
        "  agent.epsilon *= 0.99\n",
        "  if i % 1000 == 0:\n",
        "    print('Средняя награда: ', np.array(rewards).mean())\n",
        "  if i % 2000 == 0:\n",
        "    print('epsilon: ', agent.epsilon)"
      ],
      "metadata": {
        "colab": {
          "base_uri": "https://localhost:8080/"
        },
        "id": "9Sx-dZ8jU7uL",
        "outputId": "76af4918-f427-4486-a325-f8321d77df27"
      },
      "execution_count": null,
      "outputs": [
        {
          "output_type": "stream",
          "name": "stdout",
          "text": [
            "Средняя награда:  1014.0\n",
            "epsilon:  0.245025\n",
            "Средняя награда:  -1124.025974025974\n",
            "Средняя награда:  -1280.4527736131934\n",
            "epsilon:  8.511160651401826e-19\n",
            "Средняя награда:  -1192.063312229257\n",
            "Средняя награда:  -1037.274931267183\n",
            "epsilon:  2.9564271251492917e-36\n",
            "Средняя награда:  -880.7768446310738\n",
            "Средняя награда:  -726.6833861023163\n",
            "epsilon:  1.0269411780964239e-53\n",
            "Средняя награда:  -594.5544922153978\n",
            "Средняя награда:  -488.8322709661292\n",
            "epsilon:  3.5671712463293677e-71\n",
            "Средняя награда:  -371.0777691367626\n",
            "Средняя награда:  -237.5040495950405\n",
            "epsilon:  1.2390885643738625e-88\n"
          ]
        }
      ]
    },
    {
      "cell_type": "code",
      "source": [
        "total_reward = 0\n",
        "s = env.reset()\n",
        "pressure = []\n",
        "RPM = []\n",
        "RPM.append(s[0])\n",
        "pressure.append(s[1])\n",
        "for t in range(50):\n",
        "    # get agent to pick action given state s.\n",
        "    a = agent.get_action(s)\n",
        "\n",
        "    next_s, r, done, _ = env.step(a)\n",
        "\n",
        "    # train (update) agent for state s\n",
        "    agent.update(s, a, r, next_s)\n",
        "    s = next_s\n",
        "    RPM.append(s[0])\n",
        "    pressure.append(s[1])\n",
        "    total_reward += r\n",
        "print(total_reward)"
      ],
      "metadata": {
        "colab": {
          "base_uri": "https://localhost:8080/"
        },
        "id": "yk7FHmIxXXhN",
        "outputId": "57615376-ebe3-411c-df81-3930a134fc84"
      },
      "execution_count": 48,
      "outputs": [
        {
          "output_type": "stream",
          "name": "stdout",
          "text": [
            "2\n"
          ]
        }
      ]
    },
    {
      "cell_type": "code",
      "source": [
        "plt.plot(pressure)"
      ],
      "metadata": {
        "colab": {
          "base_uri": "https://localhost:8080/",
          "height": 283
        },
        "id": "F57c79xLXybP",
        "outputId": "f2b72f7f-4e26-4919-d7c8-37c8d82d5ab5"
      },
      "execution_count": 49,
      "outputs": [
        {
          "output_type": "execute_result",
          "data": {
            "text/plain": [
              "[<matplotlib.lines.Line2D at 0x7eff8e4f90d0>]"
            ]
          },
          "metadata": {},
          "execution_count": 49
        },
        {
          "output_type": "display_data",
          "data": {
            "text/plain": [
              "<Figure size 432x288 with 1 Axes>"
            ],
            "image/png": "[encoded data removed]"
          },
          "metadata": {}
        }
      ]
    },
    {
      "cell_type": "code",
      "source": [
        "plt.plot(RPM)"
      ],
      "metadata": {
        "colab": {
          "base_uri": "https://localhost:8080/",
          "height": 283
        },
        "id": "PHk7c2SnXwBP",
        "outputId": "ab10c108-64b3-4c41-bf4a-4f2af1c242e0"
      },
      "execution_count": 50,
      "outputs": [
        {
          "output_type": "execute_result",
          "data": {
            "text/plain": [
              "[<matplotlib.lines.Line2D at 0x7effa464f460>]"
            ]
          },
          "metadata": {},
          "execution_count": 50
        },
        {
          "output_type": "display_data",
          "data": {
            "text/plain": [
              "<Figure size 432x288 with 1 Axes>"
            ],
            "image/png": "[encoded data removed]"
          },
          "metadata": {}
        }
      ]
    }
  ]
}