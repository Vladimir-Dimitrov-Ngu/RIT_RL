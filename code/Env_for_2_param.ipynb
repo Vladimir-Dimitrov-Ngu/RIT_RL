{
  "nbformat": 4,
  "nbformat_minor": 0,
  "metadata": {
    "colab": {
      "provenance": []
    },
    "kernelspec": {
      "name": "python3",
      "display_name": "Python 3"
    },
    "language_info": {
      "name": "python"
    }
  },
  "cells": [
    {
      "cell_type": "code",
      "execution_count": 2,
      "metadata": {
        "id": "RhzBNkITSHim"
      },
      "outputs": [],
      "source": [
        "from gym import spaces\n",
        "from gym import Env\n",
        "import gym \n",
        "from typing import Tuple, Optional, List, Union\n",
        "\n",
        "import PIL.Image\n",
        "import PIL.ImageDraw\n",
        "import PIL.Image\n",
        "from gym import logger, spaces\n",
        "from PIL import ImageFont\n",
        "from time import time\n",
        "%matplotlib inline\n",
        "import math\n",
        "\n",
        "import matplotlib.pyplot as plt\n",
        "\n",
        "from matplotlib import style\n",
        "\n",
        "from gym.envs.classic_control import utils\n",
        "import numpy as np\n",
        "np.set_printoptions(suppress=True)\n",
        "\n",
        "import json\n",
        "import random\n",
        "style.use('dark_background')"
      ]
    },
    {
      "cell_type": "code",
      "source": [
        "MAX_ROT_SPEED = 150\n",
        "MAX_PRESSURE = 5000"
      ],
      "metadata": {
        "id": "eMD7bVd6Siu1"
      },
      "execution_count": 3,
      "outputs": []
    },
    {
      "cell_type": "code",
      "source": [
        "class DrillingEnv(gym.Env[np.ndarray, Union[int, np.ndarray]]):\n",
        "  def __init__(self, max_steps):\n",
        "    high = np.array(\n",
        "            [\n",
        "               200\n",
        "            ],\n",
        "            dtype=np.int32,\n",
        "        )\n",
        "    self.action_space = spaces.Discrete(3)\n",
        "    self.observation_space = spaces.Box(np.array([0], dtype = np.int32), high, dtype=np.int32)\n",
        "    self.state = None\n",
        "    self.steps_beyond_terminated = None\n",
        "    self.max_steps = max_steps\n",
        "    self.step_session = 0\n",
        "  def step(self, action):\n",
        "    self.step_session += 1\n",
        "    RPM, dig_pressure_prev = self.state\n",
        "    if action == 0:\n",
        "      action_rot = 1\n",
        "    elif action == 1:\n",
        "     action_rot = -1\n",
        "    else:\n",
        "      action_rot = 0\n",
        "    # 1 -> вправо \n",
        "    # 0 -> влево  \n",
        "    RPM_new = RPM +  action_rot * 2\n",
        "    dig_pressure_new = dig_pressure_prev + action_rot * 100\n",
        "    self.state = (RPM_new, dig_pressure_new)\n",
        "    DPR_optimal_upper = 3500\n",
        "    DPR_optimal_lower = 3000\n",
        "    \n",
        "    RPM_optimal_upper = 120\n",
        "    RPM_optimal_lower = 105\n",
        "    terminated = bool(\n",
        "            RPM_new > MAX_ROT_SPEED * 0.8\n",
        "            or RPM_new < MAX_ROT_SPEED * 0.7\n",
        "            or dig_pressure_new > MAX_PRESSURE * 0.7\n",
        "            or dig_pressure_new < MAX_PRESSURE * 0.6\n",
        "        )\n",
        "    if not terminated and RPM_new == RPM  and dig_pressure_new == dig_pressure_prev and self.step_session < self.max_steps :\n",
        "      reward = 15\n",
        "    elif not terminated and RPM_new != RPM and dig_pressure_new != dig_pressure_prev and self.step_session < self.max_steps:\n",
        "      reward = 10\n",
        "    elif not terminated and RPM_new == RPM and dig_pressure_new == dig_pressure_prev:\n",
        "      reward = 5\n",
        "    elif not terminated:\n",
        "      reward = 2\n",
        "    elif RPM_new < RPM_optimal_lower and dig_pressure_new < DPR_optimal_lower:\n",
        "        if (RPM_optimal_lower - RPM_new) < (RPM_optimal_lower - RPM) and (DPR_optimal_lower - dig_pressure_new) < (DPR_optimal_lower - dig_pressure_prev):\n",
        "          reward = 1\n",
        "        else:\n",
        "          reward = -1\n",
        "    elif RPM_new > RPM_optimal_upper and dig_pressure_new > DPR_optimal_upper: \n",
        "        if (RPM_new  - RPM_optimal_upper) < (RPM - RPM_optimal_upper) and (dig_pressure_new  - DPR_optimal_upper) < (dig_pressure_prev - DPR_optimal_upper):\n",
        "          reward = 1\n",
        "        else:\n",
        "          reward = -1\n",
        "    else:\n",
        "      reward = -2\n",
        "    return np.array(self.state, dtype=np.int32), reward, terminated, False\n",
        "  def reset(\n",
        "        self,\n",
        "        *,\n",
        "        seed: Optional[int] = None,\n",
        "        options: Optional[dict] = None,\n",
        "    ):  \n",
        "        self.step_session = 0\n",
        "        RPM = int(np.random.uniform(100, 150))\n",
        "        Dig_pressure = int(np.random.uniform(2900, 3600))\n",
        "        self.state = np.array([RPM, Dig_pressure])\n",
        "        return np.array(self.state, dtype=np.int32)  \n",
        "  def render(self):\n",
        "      if self.render_mode is None:\n",
        "          gym.logger.warn(\n",
        "              \"You are calling render method without specifying any render mode. \"\n",
        "              \"You can specify the render_mode at initialization, \"\n",
        "              f'e.g. gym(\"{self.spec.id}\", render_mode=\"rgb_array\")'\n",
        "          )\n",
        "          return"
      ],
      "metadata": {
        "id": "bRbr7D1mSXHQ"
      },
      "execution_count": 4,
      "outputs": []
    },
    {
      "cell_type": "code",
      "source": [
        "class DrillingEnv(gym.Env[np.ndarray, Union[int, np.ndarray]]):\n",
        "  def __init__(self, max_steps):\n",
        "    high = np.array(\n",
        "            [\n",
        "               200\n",
        "            ],\n",
        "            dtype=np.int32,\n",
        "        )\n",
        "    self.action_space = spaces.Discrete(3)\n",
        "    self.observation_space = spaces.Box(np.array([0], dtype = np.int32), high, dtype=np.int32)\n",
        "    self.state = None\n",
        "    self.steps_beyond_terminated = None\n",
        "    self.max_steps = max_steps\n",
        "    self.step_session = 0\n",
        "  def step(self, action):\n",
        "    self.step_session += 1\n",
        "    RPM, dig_pressure_prev = self.state\n",
        "    if action == 0:\n",
        "      action_rot = 1\n",
        "    elif action == 1:\n",
        "     action_rot = -1\n",
        "    else:\n",
        "      action_rot = 0\n",
        "    # 1 -> вправо \n",
        "    # 0 -> влево  \n",
        "    RPM_new = RPM +  action_rot * 2\n",
        "    dig_pressure_new = dig_pressure_prev + action_rot * 100\n",
        "    self.state = (RPM_new, dig_pressure_new)\n",
        "    DPR_optimal_upper = 3500\n",
        "    DPR_optimal_lower = 3000\n",
        "    \n",
        "    RPM_optimal_upper = 120\n",
        "    RPM_optimal_lower = 105\n",
        "    terminated = bool(\n",
        "            RPM_new > MAX_ROT_SPEED * 0.8\n",
        "            or RPM_new < MAX_ROT_SPEED * 0.7\n",
        "            or dig_pressure_new > MAX_PRESSURE * 0.7\n",
        "            or dig_pressure_new < MAX_PRESSURE * 0.6\n",
        "        )\n",
        "    if not terminated and RPM_new == RPM  and dig_pressure_new == dig_pressure_prev and self.step_session < self.max_steps :\n",
        "      reward = 15\n",
        "    elif not terminated and RPM_new != RPM and dig_pressure_new != dig_pressure_prev and self.step_session < self.max_steps:\n",
        "      reward = 10\n",
        "    elif not terminated and RPM_new == RPM and dig_pressure_new == dig_pressure_prev:\n",
        "      reward = 5\n",
        "    elif not terminated:\n",
        "      reward = 2\n",
        "    elif RPM_new < RPM_optimal_lower and dig_pressure_new < DPR_optimal_lower:\n",
        "        if (RPM_optimal_lower - RPM_new) < (RPM_optimal_lower - RPM) and (DPR_optimal_lower - dig_pressure_new) < (DPR_optimal_lower - dig_pressure_prev):\n",
        "          reward = 1\n",
        "        else:\n",
        "          reward = -1\n",
        "    elif RPM_new > RPM_optimal_upper and dig_pressure_new > DPR_optimal_upper: \n",
        "        if (RPM_new  - RPM_optimal_upper) < (RPM - RPM_optimal_upper) and (dig_pressure_new  - DPR_optimal_upper) < (dig_pressure_prev - DPR_optimal_upper):\n",
        "          reward = 1\n",
        "        else:\n",
        "          reward = -1\n",
        "    else:\n",
        "      reward = -2\n",
        "    return np.array(self.state, dtype=np.int32), reward, terminated, False\n",
        "  def reset(\n",
        "        self,\n",
        "        *,\n",
        "        seed: Optional[int] = None,\n",
        "        options: Optional[dict] = None,\n",
        "    ):  \n",
        "        self.step_session = 0\n",
        "        RPM = int(np.random.uniform(100, 150))\n",
        "        Dig_pressure = int(np.random.uniform(2900, 3600))\n",
        "        self.state = np.array([RPM, Dig_pressure])\n",
        "        return np.array(self.state, dtype=np.int32)  \n",
        "  def render(self):\n",
        "      if self.render_mode is None:\n",
        "          gym.logger.warn(\n",
        "              \"You are calling render method without specifying any render mode. \"\n",
        "              \"You can specify the render_mode at initialization, \"\n",
        "              f'e.g. gym(\"{self.spec.id}\", render_mode=\"rgb_array\")'\n",
        "          )\n",
        "          return"
      ],
      "metadata": {
        "id": "evhX4GguZnCg"
      },
      "execution_count": null,
      "outputs": []
    },
    {
      "cell_type": "code",
      "source": [
        "env = DrillingEnv(25)\n",
        "state = env.reset()\n",
        "print(f'Количество действий : {env.action_space.n}')\n",
        "print(f'Оптимальные обороты: от {MAX_ROT_SPEED * 0.7} до {MAX_ROT_SPEED * 0.8}')\n",
        "print(f'Оптимальное давление: от {MAX_PRESSURE * 0.6} до {MAX_PRESSURE * 0.7}')\n",
        "print(f'Начальное состояние: \\n \\\n",
        "Обороты : {state[0]} \\n Давление: {state[1]}')\n",
        "a0, a1 = env.action_space.sample(), env.action_space.sample()\n",
        "print(f'Сделано действие {a0} для оборотов')\n",
        "s, r, done, _  = env.step(a0)\n",
        "print(f'Награда для действия: {r} \\n Следующее состояние: {s}')"
      ],
      "metadata": {
        "colab": {
          "base_uri": "https://localhost:8080/"
        },
        "id": "nz-KyrlHUW8J",
        "outputId": "14a2ba8d-b0f7-4263-df9c-d73cf304d423"
      },
      "execution_count": 5,
      "outputs": [
        {
          "output_type": "stream",
          "name": "stdout",
          "text": [
            "Количество действий : 3\n",
            "Оптимальные обороты: от 105.0 до 120.0\n",
            "Оптимальное давление: от 3000.0 до 3500.0\n",
            "Начальное состояние: \n",
            " Обороты : 121 \n",
            " Давление: 3246\n",
            "Сделано действие 1 для оборотов\n",
            "Награда для действия: 10 \n",
            " Следующее состояние: [ 119 3146]\n"
          ]
        }
      ]
    },
    {
      "cell_type": "markdown",
      "source": [
        "Обучение"
      ],
      "metadata": {
        "id": "TFIoYMWsUhUT"
      }
    },
    {
      "cell_type": "code",
      "source": [
        "from collections import defaultdict\n",
        "import random\n",
        "\n",
        "class QLearningAgent:\n",
        "    def __init__(self, alpha, epsilon, discount, get_legal_actions):\n",
        "        \"\"\"\n",
        "        Q-Learning Agent\n",
        "        based on https://inst.eecs.berkeley.edu/~cs188/sp19/projects.html\n",
        "        Instance variables you have access to\n",
        "          - self.epsilon (exploration prob)\n",
        "          - self.alpha (learning rate)\n",
        "          - self.discount (discount rate aka gamma)\n",
        "        Functions you should use\n",
        "          - self.get_legal_actions(state) {state, hashable -> list of actions, each is hashable}\n",
        "            which returns legal actions for a state\n",
        "          - self.get_qvalue(state,action)\n",
        "            which returns Q(state,action)\n",
        "          - self.set_qvalue(state,action,value)\n",
        "            which sets Q(state,action) := value\n",
        "        !!!Important!!!\n",
        "        Note: please avoid using self._qValues directly.\n",
        "            There's a special self.get_qvalue/set_qvalue for that.\n",
        "        \"\"\"\n",
        "\n",
        "        self.get_legal_actions = get_legal_actions\n",
        "        self._qvalues = defaultdict(lambda: defaultdict(lambda: 0))\n",
        "        self.alpha = alpha\n",
        "        self.epsilon = epsilon\n",
        "        self.discount = discount\n",
        "\n",
        "    def get_qvalue(self, state, action):\n",
        "        \"\"\" Returns Q(state,action) \"\"\"\n",
        "        n_state = tuple(list(state))\n",
        "        return self._qvalues[n_state][action]\n",
        "\n",
        "    def set_qvalue(self, state, action, value):\n",
        "        \"\"\" Sets the Qvalue for [state,action] to the given value \"\"\"\n",
        "        n_state = tuple(list(state))\n",
        "        self._qvalues[n_state][action] = value\n",
        "\n",
        "    #---------------------START OF YOUR CODE---------------------#\n",
        "\n",
        "    def get_value(self, state):\n",
        "        \"\"\"\n",
        "        Compute your agent's estimate of V(s) using current q-values\n",
        "        V(s) = max_over_action Q(state,action) over possible actions.\n",
        "        Note: please take into account that q-values can be negative.\n",
        "        \"\"\"\n",
        "        possible_actions = self.get_legal_actions(state)\n",
        "\n",
        "        # If there are no legal actions, return 0.0\n",
        "        if len(possible_actions) == 0:\n",
        "            return 0.0\n",
        "        value = -float('inf')\n",
        "        for action in possible_actions:\n",
        "          q_value = self.get_qvalue(state, action)\n",
        "          if q_value > value:\n",
        "            value = q_value\n",
        "        return value\n",
        "\n",
        "    def update(self, state, action, reward, next_state):\n",
        "        \"\"\"\n",
        "        You should do your Q-Value update here:\n",
        "           Q(s,a) := (1 - alpha) * Q(s,a) + alpha * (r + gamma * V(s'))\n",
        "        \"\"\"\n",
        "\n",
        "        # agent parameters\n",
        "        gamma = self.discount\n",
        "        learning_rate = self.alpha\n",
        "\n",
        "        q_value = (1 - learning_rate) * self.get_qvalue(state, action) + learning_rate * (reward + gamma * self.get_value(next_state))\n",
        "\n",
        "        self.set_qvalue(state, action, q_value)\n",
        "\n",
        "    def get_best_action(self, state):\n",
        "        \"\"\"\n",
        "        Compute the best action to take in a state (using current q-values).\n",
        "        \"\"\"\n",
        "        possible_actions = self.get_legal_actions(state)\n",
        "\n",
        "        # If there are no legal actions, return None\n",
        "        if len(possible_actions) == 0:\n",
        "            return None\n",
        "\n",
        "        qvalue = -float('inf')\n",
        "        best_action = None\n",
        "        for action in possible_actions:\n",
        "          new_qvalue = self.get_qvalue(state, action)\n",
        "          if qvalue < new_qvalue:\n",
        "            qvalue = new_qvalue\n",
        "            best_action = action\n",
        "\n",
        "        return best_action\n",
        "\n",
        "    def get_action(self, state):\n",
        "        \"\"\"\n",
        "        Compute the action to take in the current state, including exploration.\n",
        "        With probability self.epsilon, we should take a random action.\n",
        "            otherwise - the best policy action (self.get_best_action).\n",
        "        Note: To pick randomly from a list, use random.choice(list).\n",
        "              To pick True or False with a given probablity, generate uniform number in [0, 1]\n",
        "              and compare it with your probability\n",
        "        \"\"\"\n",
        "\n",
        "        # Pick Action\n",
        "        possible_actions = self.get_legal_actions(state)\n",
        "        chosen_action = None\n",
        "\n",
        "        # If there are no legal actions, return None\n",
        "        if len(possible_actions) == 0:\n",
        "            return None\n",
        "\n",
        "        # agent parameters:\n",
        "        epsilon = self.epsilon\n",
        "        if epsilon > random.uniform(0, 1):\n",
        "          chosen_action = random.choice(possible_actions)\n",
        "        else:\n",
        "          chosen_action = self.get_best_action(state)\n",
        "\n",
        "        return chosen_action\n",
        "\n",
        "def play_and_train(env, agent, t_max=10 ** 3):\n",
        "    \"\"\"\n",
        "    This function should\n",
        "    - run a full game, actions given by agent's e-greedy policy\n",
        "    - train agent using agent.update(...) whenever it is possible\n",
        "    - return total reward\n",
        "    \"\"\"\n",
        "    total_reward = 0\n",
        "    s = env.reset()\n",
        "\n",
        "    for t in range(t_max):\n",
        "        # get agent to pick action given state s.\n",
        "        a = agent.get_action(s)\n",
        "\n",
        "        next_s, r, done, _ = env.step(a)\n",
        "\n",
        "        # train (update) agent for state s\n",
        "        agent.update(s, a, r, next_s)\n",
        "\n",
        "        s = next_s\n",
        "        total_reward += r\n",
        "    return total_reward"
      ],
      "metadata": {
        "id": "oFSZ3f6TUjNN"
      },
      "execution_count": 8,
      "outputs": []
    },
    {
      "cell_type": "code",
      "source": [
        "n_actions = 3\n",
        "agent = QLearningAgent(alpha=0.2, epsilon=0.25, discount=0.99,\n",
        "                       get_legal_actions=lambda s: range(n_actions))\n",
        "env = DrillingEnv(50)"
      ],
      "metadata": {
        "id": "PSAd-pnfUz5d"
      },
      "execution_count": 10,
      "outputs": []
    },
    {
      "cell_type": "code",
      "source": [
        "rewards = []\n",
        "for i in range(50_000):\n",
        "  agent.epsilon *= 0.99\n",
        "  rewards.append(play_and_train(env, agent))\n",
        "  agent.epsilon *= 0.99\n",
        "  if i % 1000 == 0:\n",
        "    print('Средняя награда: ', np.array(rewards).mean())\n",
        "  if i % 2000 == 0:\n",
        "    print('epsilon: ', agent.epsilon)"
      ],
      "metadata": {
        "colab": {
          "base_uri": "https://localhost:8080/",
          "height": 667
        },
        "id": "9Sx-dZ8jU7uL",
        "outputId": "30246dac-9ef3-43fc-ce16-ec5ee86db1c7"
      },
      "execution_count": 17,
      "outputs": [
        {
          "output_type": "stream",
          "name": "stdout",
          "text": [
            "Средняя награда:  2392.0\n",
            "epsilon:  6.266056403885613e-176\n",
            "Средняя награда:  1109.1168831168832\n",
            "Средняя награда:  1091.303848075962\n",
            "epsilon:  2.1765702562683654e-193\n",
            "Средняя награда:  1084.096967677441\n",
            "Средняя награда:  1055.082479380155\n",
            "epsilon:  7.560509792944737e-211\n",
            "Средняя награда:  1047.5928814237152\n",
            "Средняя награда:  1059.893517747042\n",
            "epsilon:  2.6262101195490158e-228\n",
            "Средняя награда:  1072.4382231109842\n",
            "Средняя награда:  1064.0066241719785\n",
            "epsilon:  9.122373729953563e-246\n",
            "Средняя награда:  1060.697811354294\n"
          ]
        },
        {
          "output_type": "error",
          "ename": "KeyboardInterrupt",
          "evalue": "ignored",
          "traceback": [
            "\u001b[0;31m---------------------------------------------------------------------------\u001b[0m",
            "\u001b[0;31mKeyboardInterrupt\u001b[0m                         Traceback (most recent call last)",
            "\u001b[0;32m<ipython-input-17-2b45d3e10c96>\u001b[0m in \u001b[0;36m<module>\u001b[0;34m\u001b[0m\n\u001b[1;32m      2\u001b[0m \u001b[0;32mfor\u001b[0m \u001b[0mi\u001b[0m \u001b[0;32min\u001b[0m \u001b[0mrange\u001b[0m\u001b[0;34m(\u001b[0m\u001b[0;36m50_000\u001b[0m\u001b[0;34m)\u001b[0m\u001b[0;34m:\u001b[0m\u001b[0;34m\u001b[0m\u001b[0;34m\u001b[0m\u001b[0m\n\u001b[1;32m      3\u001b[0m   \u001b[0magent\u001b[0m\u001b[0;34m.\u001b[0m\u001b[0mepsilon\u001b[0m \u001b[0;34m*=\u001b[0m \u001b[0;36m0.99\u001b[0m\u001b[0;34m\u001b[0m\u001b[0;34m\u001b[0m\u001b[0m\n\u001b[0;32m----> 4\u001b[0;31m   \u001b[0mrewards\u001b[0m\u001b[0;34m.\u001b[0m\u001b[0mappend\u001b[0m\u001b[0;34m(\u001b[0m\u001b[0mplay_and_train\u001b[0m\u001b[0;34m(\u001b[0m\u001b[0menv\u001b[0m\u001b[0;34m,\u001b[0m \u001b[0magent\u001b[0m\u001b[0;34m)\u001b[0m\u001b[0;34m)\u001b[0m\u001b[0;34m\u001b[0m\u001b[0;34m\u001b[0m\u001b[0m\n\u001b[0m\u001b[1;32m      5\u001b[0m   \u001b[0magent\u001b[0m\u001b[0;34m.\u001b[0m\u001b[0mepsilon\u001b[0m \u001b[0;34m*=\u001b[0m \u001b[0;36m0.99\u001b[0m\u001b[0;34m\u001b[0m\u001b[0;34m\u001b[0m\u001b[0m\n\u001b[1;32m      6\u001b[0m   \u001b[0;32mif\u001b[0m \u001b[0mi\u001b[0m \u001b[0;34m%\u001b[0m \u001b[0;36m1000\u001b[0m \u001b[0;34m==\u001b[0m \u001b[0;36m0\u001b[0m\u001b[0;34m:\u001b[0m\u001b[0;34m\u001b[0m\u001b[0;34m\u001b[0m\u001b[0m\n",
            "\u001b[0;32m<ipython-input-8-f1a3f5459c09>\u001b[0m in \u001b[0;36mplay_and_train\u001b[0;34m(env, agent, t_max)\u001b[0m\n\u001b[1;32m    134\u001b[0m         \u001b[0ma\u001b[0m \u001b[0;34m=\u001b[0m \u001b[0magent\u001b[0m\u001b[0;34m.\u001b[0m\u001b[0mget_action\u001b[0m\u001b[0;34m(\u001b[0m\u001b[0ms\u001b[0m\u001b[0;34m)\u001b[0m\u001b[0;34m\u001b[0m\u001b[0;34m\u001b[0m\u001b[0m\n\u001b[1;32m    135\u001b[0m \u001b[0;34m\u001b[0m\u001b[0m\n\u001b[0;32m--> 136\u001b[0;31m         \u001b[0mnext_s\u001b[0m\u001b[0;34m,\u001b[0m \u001b[0mr\u001b[0m\u001b[0;34m,\u001b[0m \u001b[0mdone\u001b[0m\u001b[0;34m,\u001b[0m \u001b[0m_\u001b[0m \u001b[0;34m=\u001b[0m \u001b[0menv\u001b[0m\u001b[0;34m.\u001b[0m\u001b[0mstep\u001b[0m\u001b[0;34m(\u001b[0m\u001b[0ma\u001b[0m\u001b[0;34m)\u001b[0m\u001b[0;34m\u001b[0m\u001b[0;34m\u001b[0m\u001b[0m\n\u001b[0m\u001b[1;32m    137\u001b[0m \u001b[0;34m\u001b[0m\u001b[0m\n\u001b[1;32m    138\u001b[0m         \u001b[0;31m# train (update) agent for state s\u001b[0m\u001b[0;34m\u001b[0m\u001b[0;34m\u001b[0m\u001b[0;34m\u001b[0m\u001b[0m\n",
            "\u001b[0;32m<ipython-input-4-fd43125157e8>\u001b[0m in \u001b[0;36mstep\u001b[0;34m(self, action)\u001b[0m\n\u001b[1;32m     33\u001b[0m     \u001b[0mRPM_optimal_lower\u001b[0m \u001b[0;34m=\u001b[0m \u001b[0;36m105\u001b[0m\u001b[0;34m\u001b[0m\u001b[0;34m\u001b[0m\u001b[0m\n\u001b[1;32m     34\u001b[0m     terminated = bool(\n\u001b[0;32m---> 35\u001b[0;31m             \u001b[0mRPM_new\u001b[0m \u001b[0;34m>\u001b[0m \u001b[0mMAX_ROT_SPEED\u001b[0m \u001b[0;34m*\u001b[0m \u001b[0;36m0.8\u001b[0m\u001b[0;34m\u001b[0m\u001b[0;34m\u001b[0m\u001b[0m\n\u001b[0m\u001b[1;32m     36\u001b[0m             \u001b[0;32mor\u001b[0m \u001b[0mRPM_new\u001b[0m \u001b[0;34m<\u001b[0m \u001b[0mMAX_ROT_SPEED\u001b[0m \u001b[0;34m*\u001b[0m \u001b[0;36m0.7\u001b[0m\u001b[0;34m\u001b[0m\u001b[0;34m\u001b[0m\u001b[0m\n\u001b[1;32m     37\u001b[0m             \u001b[0;32mor\u001b[0m \u001b[0mdig_pressure_new\u001b[0m \u001b[0;34m>\u001b[0m \u001b[0mMAX_PRESSURE\u001b[0m \u001b[0;34m*\u001b[0m \u001b[0;36m0.7\u001b[0m\u001b[0;34m\u001b[0m\u001b[0;34m\u001b[0m\u001b[0m\n",
            "\u001b[0;31mKeyboardInterrupt\u001b[0m: "
          ]
        }
      ]
    },
    {
      "cell_type": "code",
      "source": [
        "total_reward = 0\n",
        "s = env.reset()\n",
        "pressure = []\n",
        "RPM = []\n",
        "RPM.append(s[0])\n",
        "pressure.append(s[1])\n",
        "for t in range(50):\n",
        "    # get agent to pick action given state s.\n",
        "    a = agent.get_action(s)\n",
        "\n",
        "    next_s, r, done, _ = env.step(a)\n",
        "\n",
        "    # train (update) agent for state s\n",
        "    agent.update(s, a, r, next_s)\n",
        "    s = next_s\n",
        "    RPM.append(s[0])\n",
        "    pressure.append(s[1])\n",
        "    total_reward += r\n",
        "print(total_reward)"
      ],
      "metadata": {
        "colab": {
          "base_uri": "https://localhost:8080/"
        },
        "id": "yk7FHmIxXXhN",
        "outputId": "d5686b4e-f461-4f3a-a796-16dd3ca597a6"
      },
      "execution_count": 27,
      "outputs": [
        {
          "output_type": "stream",
          "name": "stdout",
          "text": [
            "-31\n"
          ]
        }
      ]
    },
    {
      "cell_type": "code",
      "source": [
        "plt.plot(pressure)"
      ],
      "metadata": {
        "colab": {
          "base_uri": "https://localhost:8080/",
          "height": 283
        },
        "id": "F57c79xLXybP",
        "outputId": "b444fe5a-2855-4b37-b751-8c786d0247b8"
      },
      "execution_count": 28,
      "outputs": [
        {
          "output_type": "execute_result",
          "data": {
            "text/plain": [
              "[<matplotlib.lines.Line2D at 0x7f00d92cb070>]"
            ]
          },
          "metadata": {},
          "execution_count": 28
        },
        {
          "output_type": "display_data",
          "data": {
            "text/plain": [
              "<Figure size 432x288 with 1 Axes>"
            ],
            "image/png": "[encoded data removed]"
          },
          "metadata": {}
        }
      ]
    },
    {
      "cell_type": "code",
      "source": [
        "plt.plot(RPM)"
      ],
      "metadata": {
        "colab": {
          "base_uri": "https://localhost:8080/",
          "height": 283
        },
        "id": "PHk7c2SnXwBP",
        "outputId": "0d57f34f-a582-4502-e43a-43ec2d0aceae"
      },
      "execution_count": 29,
      "outputs": [
        {
          "output_type": "execute_result",
          "data": {
            "text/plain": [
              "[<matplotlib.lines.Line2D at 0x7f00d92a2700>]"
            ]
          },
          "metadata": {},
          "execution_count": 29
        },
        {
          "output_type": "display_data",
          "data": {
            "text/plain": [
              "<Figure size 432x288 with 1 Axes>"
            ],
            "image/png": "[encoded data removed]"
          },
          "metadata": {}
        }
      ]
    }
  ]
}