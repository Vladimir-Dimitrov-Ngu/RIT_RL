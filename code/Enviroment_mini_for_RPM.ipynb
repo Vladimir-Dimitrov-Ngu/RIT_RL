{
  "nbformat": 4,
  "nbformat_minor": 0,
  "metadata": {
    "colab": {
      "provenance": []
    },
    "kernelspec": {
      "name": "python3",
      "display_name": "Python 3"
    },
    "language_info": {
      "name": "python"
    }
  },
  "cells": [
    {
      "cell_type": "code",
      "execution_count": 1,
      "metadata": {
        "id": "g9XkUPbIlq5t"
      },
      "outputs": [],
      "source": [
        "from gym import spaces\n",
        "from gym import Env\n",
        "import gym \n",
        "from typing import Tuple, Optional, List, Union\n",
        "\n",
        "import PIL.Image\n",
        "import PIL.ImageDraw\n",
        "import PIL.Image\n",
        "from gym import logger, spaces\n",
        "from PIL import ImageFont\n",
        "from time import time\n",
        "%matplotlib inline\n",
        "from collections import defaultdict\n",
        "import math\n",
        "\n",
        "import matplotlib.pyplot as plt\n",
        "\n",
        "from matplotlib import style\n",
        "\n",
        "from gym.envs.classic_control import utils\n",
        "import numpy as np\n",
        "np.set_printoptions(suppress=True)\n",
        "\n",
        "import json\n",
        "import random\n",
        "style.use('dark_background')\n"
      ]
    },
    {
      "cell_type": "code",
      "source": [
        "MAX_ROT_SPEED = 150"
      ],
      "metadata": {
        "id": "O-ktHoxzlv2J"
      },
      "execution_count": 5,
      "outputs": []
    },
    {
      "cell_type": "code",
      "source": [
        "class DrillingEnv(gym.Env[np.ndarray, Union[int, np.ndarray]]):\n",
        "  def __init__(self, max_steps):\n",
        "    high = np.array(\n",
        "            [\n",
        "               200\n",
        "            ],\n",
        "            dtype=np.int32,\n",
        "        )\n",
        "    self.action_space = spaces.Discrete(3)\n",
        "    self.observation_space = spaces.Box(np.array([0], dtype = np.int32), high, dtype=np.int32)\n",
        "    self.state = None\n",
        "    self.steps_beyond_terminated = None\n",
        "    self.max_steps = max_steps\n",
        "    self.step_session = 0\n",
        "  def step(self, action):\n",
        "    self.step_session += 1\n",
        "    RPM = self.state\n",
        "    if action == 0:\n",
        "      action_rot = 1\n",
        "    elif action == 1:\n",
        "     action_rot = -1\n",
        "    else:\n",
        "      action_rot = 0\n",
        "    # 1 -> вправо \n",
        "    # 0 -> влево  \n",
        "    RPM_new = RPM +  action_rot * 2\n",
        "    self.state = (int(RPM_new))\n",
        "    RPM_optimal_upper = 120\n",
        "    RPM_optimal_lower = 105\n",
        "    terminated = bool(\n",
        "            RPM_new > MAX_ROT_SPEED * 0.8\n",
        "            or RPM_new < MAX_ROT_SPEED * 0.7\n",
        "        )\n",
        "    if not terminated and self.step_session < self.max_steps and RPM_new != RPM:\n",
        "      reward = 2\n",
        "    elif not terminated and RPM_new == RPM:\n",
        "      reward = 3\n",
        "    elif not terminated:\n",
        "      reward = 1\n",
        "    elif terminated and (RPM_optimal_lower - RPM_new) < (RPM_optimal_lower - RPM):\n",
        "      reward = 0.5\n",
        "    elif self.step_session < self.max_steps:\n",
        "      reward = 0\n",
        "    else:\n",
        "      reward = 0\n",
        "\n",
        "    return np.array(self.state, dtype=np.int32), reward, terminated, False\n",
        "  def reset(\n",
        "        self,\n",
        "        *,\n",
        "        seed: Optional[int] = None,\n",
        "        options: Optional[dict] = None,\n",
        "    ):  \n",
        "        self.step_session = 0\n",
        "        RPM = MAX_ROT_SPEED * 0.4\n",
        "        self.state = np.array([int(RPM)])\n",
        "        return np.array(self.state, dtype=np.int32)\n",
        "  def render(self):\n",
        "      if self.render_mode is None:\n",
        "          gym.logger.warn(\n",
        "              \"You are calling render method without specifying any render mode. \"\n",
        "              \"You can specify the render_mode at initialization, \"\n",
        "              f'e.g. gym(\"{self.spec.id}\", render_mode=\"rgb_array\")'\n",
        "          )\n",
        "          return"
      ],
      "metadata": {
        "id": "oLH1i1Zclx1O"
      },
      "execution_count": 211,
      "outputs": []
    },
    {
      "cell_type": "code",
      "source": [
        "env = DrillingEnv(25)\n",
        "state = env.reset()\n",
        "print(f'Количество действий : {env.action_space.n}')\n",
        "print(f'Оптимальные обороты: от {MAX_ROT_SPEED * 0.7} до {MAX_ROT_SPEED * 0.8}')\n",
        "print(f'Начальное состояние: \\n \\\n",
        "Обороты : {state[0]}')\n",
        "s, r, done, _  = env.step(env.action_space.sample())\n",
        "print(f'Случайное состояние и случайная награда после шага: {s}, {r}')"
      ],
      "metadata": {
        "colab": {
          "base_uri": "https://localhost:8080/"
        },
        "id": "wr1jIEOAmiuP",
        "outputId": "45e03340-8416-4358-af93-8e6e08034d73"
      },
      "execution_count": 215,
      "outputs": [
        {
          "output_type": "stream",
          "name": "stdout",
          "text": [
            "Количество действий : 3\n",
            "Оптимальные обороты: от 105.0 до 120.0\n",
            "Начальное состояние: \n",
            " Обороты : 60\n",
            "Случайное состояние и случайная награда после шага: 58, 0\n"
          ]
        }
      ]
    },
    {
      "cell_type": "code",
      "source": [
        "env = DrillingEnv(max_steps = 15)\n",
        "env.reset()\n",
        "rpm_session = []\n",
        "r_session = []\n",
        "for _ in range(30):\n",
        "  s, r, done, _ = env.step(env.action_space.sample())\n",
        "  rpm_session.append(s)\n",
        "  r_session.append(r)\n",
        "  # if done == False:\n",
        "  #   print('yep')\n",
        "  #   break"
      ],
      "metadata": {
        "id": "z2ZOnt8LnXc-"
      },
      "execution_count": 202,
      "outputs": []
    },
    {
      "cell_type": "markdown",
      "source": [
        "### Обучение"
      ],
      "metadata": {
        "id": "tFJsrbvCoCGZ"
      }
    },
    {
      "cell_type": "code",
      "source": [
        "class QLearningAgent:\n",
        "    def __init__(self, alpha, epsilon, discount, get_legal_actions):\n",
        "        \"\"\"\n",
        "        Q-Learning Agent\n",
        "        based on https://inst.eecs.berkeley.edu/~cs188/sp19/projects.html\n",
        "        Instance variables you have access to\n",
        "          - self.epsilon (exploration prob)\n",
        "          - self.alpha (learning rate)\n",
        "          - self.discount (discount rate aka gamma)\n",
        "\n",
        "        Functions you should use\n",
        "          - self.get_legal_actions(state) {state, hashable -> list of actions, each is hashable}\n",
        "            which returns legal actions for a state\n",
        "          - self.get_qvalue(state,action)\n",
        "            which returns Q(state,action)\n",
        "          - self.set_qvalue(state,action,value)\n",
        "            which sets Q(state,action) := value\n",
        "        !!!Important!!!\n",
        "        Note: please avoid using self._qValues directly. \n",
        "            There's a special self.get_qvalue/set_qvalue for that.\n",
        "        \"\"\"\n",
        "\n",
        "        self.get_legal_actions = get_legal_actions\n",
        "        self._qvalues = defaultdict(lambda: defaultdict(lambda: 0))\n",
        "        self.alpha = alpha\n",
        "        self.epsilon = epsilon\n",
        "        self.discount = discount\n",
        "\n",
        "    def get_qvalue(self, state, action):\n",
        "        \"\"\" Returns Q(state,action) \"\"\"\n",
        "        n_state = int(state)\n",
        "        return self._qvalues[n_state][action]\n",
        "\n",
        "    def set_qvalue(self, state, action, value):\n",
        "        \"\"\" Sets the Qvalue for [state,action] to the given value \"\"\"\n",
        "        n_state = int(state)\n",
        "        self._qvalues[n_state][action] = value\n",
        "\n",
        "    #---------------------START OF YOUR CODE---------------------#\n",
        "\n",
        "    def get_value(self, state):\n",
        "        \"\"\"\n",
        "        Compute your agent's estimate of V(s) using current q-values\n",
        "        V(s) = max_over_action Q(state,action) over possible actions.\n",
        "        Note: please take into account that q-values can be negative.\n",
        "        \"\"\"\n",
        "        possible_actions = self.get_legal_actions(state)\n",
        "\n",
        "        # If there are no legal actions, return 0.0\n",
        "        if len(possible_actions) == 0:\n",
        "            return 0.0\n",
        "        value = -float('inf')\n",
        "        for action in possible_actions: \n",
        "          q_value = self.get_qvalue(state, action)\n",
        "          if q_value > value:\n",
        "            value = q_value\n",
        "        return value\n",
        "\n",
        "    def update(self, state, action, reward, next_state):\n",
        "        \"\"\"\n",
        "        You should do your Q-Value update here:\n",
        "           Q(s,a) := (1 - alpha) * Q(s,a) + alpha * (r + gamma * V(s'))\n",
        "        \"\"\"\n",
        "\n",
        "        # agent parameters\n",
        "        gamma = self.discount\n",
        "        learning_rate = self.alpha\n",
        "\n",
        "        q_value = (1 - learning_rate) * self.get_qvalue(state, action) + learning_rate * (reward + gamma * self.get_value(next_state))\n",
        "\n",
        "        self.set_qvalue(state, action, q_value)\n",
        "\n",
        "    def get_best_action(self, state):\n",
        "        \"\"\"\n",
        "        Compute the best action to take in a state (using current q-values). \n",
        "        \"\"\"\n",
        "        possible_actions = self.get_legal_actions(state)\n",
        "\n",
        "        # If there are no legal actions, return None\n",
        "        if len(possible_actions) == 0:\n",
        "            return None\n",
        "\n",
        "        qvalue = -float('inf')\n",
        "        best_action = None\n",
        "        for action in possible_actions:\n",
        "          new_qvalue = self.get_qvalue(state, action)\n",
        "          if qvalue < new_qvalue:\n",
        "            qvalue = new_qvalue\n",
        "            best_action = action\n",
        "\n",
        "        return best_action\n",
        "\n",
        "    def get_action(self, state):\n",
        "        \"\"\"\n",
        "        Compute the action to take in the current state, including exploration.  \n",
        "        With probability self.epsilon, we should take a random action.\n",
        "            otherwise - the best policy action (self.get_best_action).\n",
        "\n",
        "        Note: To pick randomly from a list, use random.choice(list). \n",
        "              To pick True or False with a given probablity, generate uniform number in [0, 1]\n",
        "              and compare it with your probability\n",
        "        \"\"\"\n",
        "\n",
        "        # Pick Action\n",
        "        possible_actions = self.get_legal_actions(state)\n",
        "        chosen_action = None\n",
        "\n",
        "        # If there are no legal actions, return None\n",
        "        if len(possible_actions) == 0:\n",
        "            return None\n",
        "\n",
        "        # agent parameters:\n",
        "        epsilon = self.epsilon\n",
        "        if epsilon > random.uniform(0, 1):\n",
        "          chosen_action = random.choice(possible_actions)\n",
        "        else:\n",
        "          chosen_action = self.get_best_action(state)\n",
        "\n",
        "        return chosen_action"
      ],
      "metadata": {
        "id": "owfAjQDFoFKI"
      },
      "execution_count": 203,
      "outputs": []
    },
    {
      "cell_type": "code",
      "source": [
        "def play_and_train(env, agent, t_max=10**3):\n",
        "    \"\"\"\n",
        "    This function should \n",
        "    - run a full game, actions given by agent's e-greedy policy\n",
        "    - train agent using agent.update(...) whenever it is possible\n",
        "    - return total reward\n",
        "    \"\"\"\n",
        "    total_reward = 0\n",
        "    s = env.reset()\n",
        "\n",
        "    for t in range(t_max):\n",
        "        # get agent to pick action given state s.\n",
        "        a = agent.get_action(s)\n",
        "\n",
        "        next_s, r, done, _ = env.step(a)\n",
        "\n",
        "        # train (update) agent for state s\n",
        "        agent.update(s, a, r, next_s)\n",
        "\n",
        "        s = next_s\n",
        "        total_reward += r\n",
        "    return total_reward\n",
        "     "
      ],
      "metadata": {
        "id": "kI63b6H7oGUO"
      },
      "execution_count": 204,
      "outputs": []
    },
    {
      "cell_type": "code",
      "source": [
        "n_actions = 3\n",
        "agent = QLearningAgent(alpha=0.2, epsilon=0.25, discount=0.99,\n",
        "                       get_legal_actions=lambda s: range(n_actions))\n"
      ],
      "metadata": {
        "id": "31-6rjM1oHYF"
      },
      "execution_count": 205,
      "outputs": []
    },
    {
      "cell_type": "code",
      "source": [
        "env = DrillingEnv(50)"
      ],
      "metadata": {
        "id": "WUu08YmjoNd5"
      },
      "execution_count": 207,
      "outputs": []
    },
    {
      "cell_type": "code",
      "source": [
        "rewards = []\n",
        "for i in range(10000):\n",
        "  agent.epsilon *= 0.99\n",
        "  rewards.append(play_and_train(env, agent))\n",
        "  agent.epsilon *= 0.99\n",
        "  if i % 1000 == 0:\n",
        "    print('Средняя награда: ', np.array(rewards).mean())\n",
        "  if i % 2000 == 0:\n",
        "    print('epsilon: ', agent.epsilon)  "
      ],
      "metadata": {
        "colab": {
          "base_uri": "https://localhost:8080/"
        },
        "id": "jHAe09I-oQBO",
        "outputId": "400c8fa7-8066-47c6-c150-f5de7ff2c155"
      },
      "execution_count": 208,
      "outputs": [
        {
          "output_type": "stream",
          "name": "stdout",
          "text": [
            "Средняя награда:  299.0\n",
            "epsilon:  0.245025\n",
            "Средняя награда:  2879.2357642357642\n",
            "Средняя награда:  2933.1479260369815\n",
            "epsilon:  8.511160651401826e-19\n",
            "Средняя награда:  2951.15044985005\n",
            "Средняя награда:  2960.1709572606846\n",
            "epsilon:  2.9564271251492917e-36\n",
            "Средняя награда:  2965.5533893221354\n",
            "Средняя награда:  2969.1943842692885\n",
            "epsilon:  1.0269411780964239e-53\n",
            "Средняя награда:  2971.7770318525927\n",
            "Средняя награда:  2973.6769153855766\n",
            "epsilon:  3.5671712463293677e-71\n",
            "Средняя награда:  2975.192423064104\n"
          ]
        }
      ]
    },
    {
      "cell_type": "code",
      "source": [
        "env = DrillingEnv(25)\n",
        "s = env.reset()\n",
        "RMP_session = []\n",
        "for t in range(200):\n",
        "    # get agent to pick action given state s.\n",
        "    a = agent.get_action(s)\n",
        "    next_s, r, done, _ = env.step(a)\n",
        "    # train (update) agent for state s\n",
        "    agent.update(s, a, r, next_s)\n",
        "    s = next_s\n",
        "    RMP_session.append(s)"
      ],
      "metadata": {
        "id": "LMjvjA5otZCM"
      },
      "execution_count": 135,
      "outputs": []
    },
    {
      "cell_type": "code",
      "source": [
        "plt.plot(RMP_session)\n",
        "plt.title('График для 2 действий по показателю RPM'); # минусы - сильные колебания"
      ],
      "metadata": {
        "colab": {
          "base_uri": "https://localhost:8080/",
          "height": 281
        },
        "id": "ZPv4Pfb7t4Zv",
        "outputId": "322096f8-fbb8-4049-a26c-b0fba484317e"
      },
      "execution_count": 143,
      "outputs": [
        {
          "output_type": "display_data",
          "data": {
            "text/plain": [
              "<Figure size 432x288 with 1 Axes>"
            ],
            "image/png": "[encoded data removed]"
          },
          "metadata": {}
        }
      ]
    },
    {
      "cell_type": "code",
      "source": [
        "env = DrillingEnv(25)\n",
        "s = env.reset()\n",
        "RMP_session = []\n",
        "for t in range(200):\n",
        "    # get agent to pick action given state s.\n",
        "    a = agent.get_action(s)\n",
        "    next_s, r, done, _ = env.step(a)\n",
        "    # train (update) agent for state s\n",
        "    agent.update(s, a, r, next_s)\n",
        "    s = next_s\n",
        "    RMP_session.append(s)"
      ],
      "metadata": {
        "id": "te70WnMBv9QL"
      },
      "execution_count": 179,
      "outputs": []
    },
    {
      "cell_type": "code",
      "source": [
        "plt.plot(RMP_session)\n",
        "plt.title('График для 3 действий по показателю RPM'); # минусы - изначально находимся в оптимуме"
      ],
      "metadata": {
        "colab": {
          "base_uri": "https://localhost:8080/",
          "height": 281
        },
        "id": "VRi3jYSxwHN8",
        "outputId": "7cf69a5c-b57b-4f9e-cfd0-2b12aa944c9e"
      },
      "execution_count": 180,
      "outputs": [
        {
          "output_type": "display_data",
          "data": {
            "text/plain": [
              "<Figure size 432x288 with 1 Axes>"
            ],
            "image/png": "[encoded data removed]"
          },
          "metadata": {}
        }
      ]
    },
    {
      "cell_type": "code",
      "source": [
        "env = DrillingEnv(25)\n",
        "s = env.reset()\n",
        "RMP_session = []\n",
        "for t in range(200):\n",
        "    # get agent to pick action given state s.\n",
        "    a = agent.get_action(s)\n",
        "    next_s, r, done, _ = env.step(a)\n",
        "    # train (update) agent for state s\n",
        "    agent.update(s, a, r, next_s)\n",
        "    s = next_s\n",
        "    RMP_session.append(s)"
      ],
      "metadata": {
        "id": "c2kNp3cwxvlD"
      },
      "execution_count": 209,
      "outputs": []
    },
    {
      "cell_type": "code",
      "source": [
        "plt.plot(RMP_session)\n",
        "plt.title('График для 3 действий по показателю RPM (близко к оптимуму)'); # минусы - существует подсказка по оптимуму"
      ],
      "metadata": {
        "colab": {
          "base_uri": "https://localhost:8080/",
          "height": 281
        },
        "id": "QFK7RjE-xxMv",
        "outputId": "236888b6-1474-4c2e-8b85-c1ad6fa849fe"
      },
      "execution_count": 212,
      "outputs": [
        {
          "output_type": "display_data",
          "data": {
            "text/plain": [
              "<Figure size 432x288 with 1 Axes>"
            ],
            "image/png": "[encoded data removed]"
          },
          "metadata": {}
        }
      ]
    },
    {
      "cell_type": "code",
      "source": [
        "n_actions = 3\n",
        "agent = QLearningAgent(alpha=0.2, epsilon=0.25, discount=0.99,\n",
        "                       get_legal_actions=lambda s: range(n_actions))\n",
        "env = DrillingEnv(50)"
      ],
      "metadata": {
        "id": "GPRPoSgKyD3z"
      },
      "execution_count": 216,
      "outputs": []
    },
    {
      "cell_type": "code",
      "source": [
        "rewards = []\n",
        "for i in range(10_000):\n",
        "  agent.epsilon *= 0.99\n",
        "  rewards.append(play_and_train(env, agent))\n",
        "  agent.epsilon *= 0.99\n",
        "  if i % 1000 == 0:\n",
        "    print('Средняя награда: ', np.array(rewards).mean())\n",
        "  if i % 2000 == 0:\n",
        "    print('epsilon: ', agent.epsilon)  "
      ],
      "metadata": {
        "colab": {
          "base_uri": "https://localhost:8080/"
        },
        "id": "2YLoRcOEyQHI",
        "outputId": "7743c9a5-8156-40fa-f340-1ef89c95f919"
      },
      "execution_count": 217,
      "outputs": [
        {
          "output_type": "stream",
          "name": "stdout",
          "text": [
            "Средняя награда:  283.0\n",
            "epsilon:  0.245025\n",
            "Средняя награда:  2863.8996003996003\n",
            "Средняя награда:  2903.430034982509\n",
            "epsilon:  8.511160651401826e-19\n",
            "Средняя награда:  2916.6156281239587\n",
            "Средняя награда:  2923.2100724818797\n",
            "epsilon:  2.9564271251492917e-36\n",
            "Средняя награда:  2927.167266546691\n",
            "Средняя награда:  2929.8056157307115\n",
            "epsilon:  1.0269411780964239e-53\n",
            "Средняя награда:  2931.690258534495\n",
            "Средняя награда:  2933.1037995250595\n",
            "epsilon:  3.5671712463293677e-71\n",
            "Средняя награда:  2934.2032551938673\n"
          ]
        }
      ]
    },
    {
      "cell_type": "code",
      "source": [
        "env = DrillingEnv(25)\n",
        "s = env.reset()\n",
        "RMP_session = []\n",
        "for t in range(200):\n",
        "    # get agent to pick action given state s.\n",
        "    a = agent.get_action(s)\n",
        "    next_s, r, done, _ = env.step(a)\n",
        "    # train (update) agent for state s\n",
        "    agent.update(s, a, r, next_s)\n",
        "    s = next_s\n",
        "    RMP_session.append(s)"
      ],
      "metadata": {
        "id": "3aKHgE7tyVsx"
      },
      "execution_count": 218,
      "outputs": []
    },
    {
      "cell_type": "code",
      "source": [
        "plt.plot(RMP_session)\n",
        "plt.title('График для 3 действий по показателю RPM (далеко от оптимума)'); # минусы - существует подсказка по оптимуму"
      ],
      "metadata": {
        "colab": {
          "base_uri": "https://localhost:8080/",
          "height": 281
        },
        "id": "fXvn3BwyyXVM",
        "outputId": "c0a397c2-9ca4-4fa0-813f-6c170986383c"
      },
      "execution_count": 219,
      "outputs": [
        {
          "output_type": "display_data",
          "data": {
            "text/plain": [
              "<Figure size 432x288 with 1 Axes>"
            ],
            "image/png": "[encoded data removed]"
          },
          "metadata": {}
        }
      ]
    }
  ]
}